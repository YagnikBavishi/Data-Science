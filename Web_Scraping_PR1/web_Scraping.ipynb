{
 "cells": [
  {
   "cell_type": "code",
   "execution_count": 1,
   "metadata": {},
   "outputs": [],
   "source": [
    "from selenium import webdriver\n",
    "from bs4 import BeautifulSoup\n",
    "import pandas as pd"
   ]
  },
  {
   "cell_type": "code",
   "execution_count": 2,
   "metadata": {},
   "outputs": [],
   "source": [
    "driver = webdriver.Chrome(\"E:\\selenium\\chromedriver_win32\\chromedriver\")"
   ]
  },
  {
   "cell_type": "code",
   "execution_count": null,
   "metadata": {},
   "outputs": [],
   "source": [
    "products_name=[] \n",
    "prices=[] \n",
    "features=[] "
   ]
  },
  {
   "cell_type": "code",
   "execution_count": 3,
   "metadata": {},
   "outputs": [],
   "source": [
    "driver.get(\"https://www.flipkart.com/search?q=laptop&otracker=search&otracker1=search&marketplace=FLIPKART&as-show=on&as=off&as-pos=1&as-type=HISTORY&as-backfill=on\")"
   ]
  },
  {
   "cell_type": "code",
   "execution_count": null,
   "metadata": {},
   "outputs": [],
   "source": [
    "content = driver.page_source\n",
    "soup = BeautifulSoup(content)"
   ]
  },
  {
   "cell_type": "code",
   "execution_count": 4,
   "metadata": {},
   "outputs": [],
   "source": [
    "for a in soup.findAll('a',href=True, attrs={'class':'_1fQZEK'}):\n",
    "    name=a.find('div',attrs={'class':'_4rR01T'})\n",
    "    price=a.find('div',attrs={'class':'_30jeq3 _1_WHN1'})\n",
    "    feature=a.find('div',attrs={'class':'fMghEO'})\n",
    "    products_name.append(name.text)\n",
    "    prices.append(price.text)\n",
    "    features.append(feature.text)\n"
   ]
  },
  {
   "cell_type": "code",
   "execution_count": 5,
   "metadata": {},
   "outputs": [
    {
     "name": "stdout",
     "output_type": "stream",
     "text": [
      "                                        Product Name      Price  \\\n",
      "0  HP OMEN 15 Ryzen 7 Octa Core 5800H - (16 GB/1 ...  ₹1,29,990   \n",
      "1  acer Nitro Ryzen 5 Hexa Core 5600H - (8 GB/1 T...    ₹79,990   \n",
      "2  ASUS VivoBook Ultra 14 Core i3 11th Gen - (8 G...    ₹43,990   \n",
      "3  APPLE MacBook Air M1 - (8 GB/256 GB SSD/Mac OS...    ₹84,990   \n",
      "4  ASUS TUF Gaming A17 Ryzen 5 Hexa Core 4600H - ...    ₹64,990   \n",
      "\n",
      "                                             Feature  \n",
      "0  AMD Ryzen 7 Octa Core Processor16 GB DDR4 RAM6...  \n",
      "1  AMD Ryzen 5 Hexa Core Processor8 GB DDR4 RAM64...  \n",
      "2  Intel Core i3 Processor (11th Gen)8 GB DDR4 RA...  \n",
      "3  Apple M1 Processor8 GB DDR4 RAMMac OS Operatin...  \n",
      "4  AMD Ryzen 5 Hexa Core Processor16 GB DDR4 RAM6...  \n"
     ]
    }
   ],
   "source": [
    "df = pd.DataFrame({'Product Name':products_name,'Price':prices , 'Feature':features})\n",
    "print(df.head())\n",
    "df.to_csv('products.csv', index=False, encoding='utf-8')"
   ]
  },
  {
   "cell_type": "code",
   "execution_count": null,
   "metadata": {},
   "outputs": [],
   "source": []
  }
 ],
 "metadata": {
  "kernelspec": {
   "display_name": "Python 3",
   "language": "python",
   "name": "python3"
  },
  "language_info": {
   "codemirror_mode": {
    "name": "ipython",
    "version": 3
   },
   "file_extension": ".py",
   "mimetype": "text/x-python",
   "name": "python",
   "nbconvert_exporter": "python",
   "pygments_lexer": "ipython3",
   "version": "3.7.1"
  }
 },
 "nbformat": 4,
 "nbformat_minor": 4
}
